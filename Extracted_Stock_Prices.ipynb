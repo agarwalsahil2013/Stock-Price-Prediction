{
  "nbformat": 4,
  "nbformat_minor": 0,
  "metadata": {
    "colab": {
      "name": "Extracted_Stock_Prices.ipynb",
      "provenance": [],
      "toc_visible": true,
      "authorship_tag": "ABX9TyMCvsG12fbz81yAWUh4kJvo",
      "include_colab_link": true
    },
    "kernelspec": {
      "name": "python3",
      "display_name": "Python 3"
    }
  },
  "cells": [
    {
      "cell_type": "markdown",
      "metadata": {
        "id": "view-in-github",
        "colab_type": "text"
      },
      "source": [
        "<a href=\"https://colab.research.google.com/github/agarwalsahil2013/Stock-Price-Prediction/blob/main/Extracted_Stock_Prices.ipynb\" target=\"_parent\"><img src=\"https://colab.research.google.com/assets/colab-badge.svg\" alt=\"Open In Colab\"/></a>"
      ]
    },
    {
      "cell_type": "markdown",
      "metadata": {
        "id": "awKsbEXvivv1"
      },
      "source": [
        "# Importing Financial indicators & python libraries "
      ]
    },
    {
      "cell_type": "code",
      "metadata": {
        "id": "gDgE21UPi02a",
        "colab": {
          "base_uri": "https://localhost:8080/"
        },
        "outputId": "30106e9f-8746-49a9-c313-0c93570a24b5"
      },
      "source": [
        "# Installing technical indicator library in python\n",
        "pip install finta"
      ],
      "execution_count": null,
      "outputs": [
        {
          "output_type": "stream",
          "text": [
            "Collecting finta\n",
            "  Downloading https://files.pythonhosted.org/packages/d0/6b/1142971fc9567e58fb5a2362cbb44b826b77da543c38b501d653104c112e/finta-1.2-py3-none-any.whl\n",
            "Requirement already satisfied: pandas in /usr/local/lib/python3.6/dist-packages (from finta) (1.1.4)\n",
            "Requirement already satisfied: numpy in /usr/local/lib/python3.6/dist-packages (from finta) (1.18.5)\n",
            "Requirement already satisfied: python-dateutil>=2.7.3 in /usr/local/lib/python3.6/dist-packages (from pandas->finta) (2.8.1)\n",
            "Requirement already satisfied: pytz>=2017.2 in /usr/local/lib/python3.6/dist-packages (from pandas->finta) (2018.9)\n",
            "Requirement already satisfied: six>=1.5 in /usr/local/lib/python3.6/dist-packages (from python-dateutil>=2.7.3->pandas->finta) (1.15.0)\n",
            "Installing collected packages: finta\n",
            "Successfully installed finta-1.2\n"
          ],
          "name": "stdout"
        }
      ]
    },
    {
      "cell_type": "code",
      "metadata": {
        "id": "mludGIS8i1u_"
      },
      "source": [
        "# Importing libraries\n",
        "import pandas_datareader.data as web\n",
        "from finta import TA\n",
        "import pandas as pd\n",
        "import numpy as np\n",
        "import matplotlib.pyplot as plt\n",
        "from sklearn.preprocessing import MinMaxScaler\n",
        "\n",
        "# Extracting stock price of both companies\n",
        "wmt = web.DataReader('WMT','yahoo','1700-01-01')\n",
        "tsla = web.DataReader('TSLA','yahoo','1700-01-01')"
      ],
      "execution_count": null,
      "outputs": []
    },
    {
      "cell_type": "code",
      "metadata": {
        "id": "ypLGBRlsi8tR",
        "colab": {
          "base_uri": "https://localhost:8080/"
        },
        "outputId": "10a90bb8-fec8-4923-d828-8d63571e6f3f"
      },
      "source": [
        "# Checking shape of both dataset\n",
        "print(\"WMT: \", wmt.shape)\n",
        "print(\"TSLA: \",tsla.shape)"
      ],
      "execution_count": null,
      "outputs": [
        {
          "output_type": "stream",
          "text": [
            "WMT:  (12163, 6)\n",
            "TSLA:  (2616, 6)\n"
          ],
          "name": "stdout"
        }
      ]
    },
    {
      "cell_type": "markdown",
      "metadata": {
        "id": "X8o9F1dXjJLW"
      },
      "source": [
        "# Generating new technical indicators for WMT and TSLA"
      ]
    },
    {
      "cell_type": "code",
      "metadata": {
        "id": "I363c24WjGze"
      },
      "source": [
        " # Function to create Technical Indicators\n",
        " def indicators(df):\n",
        "  df.rename(columns={\"Open\":\"open\",\"High\":\"high\",\"Low\":\"low\",\"Close\":\"close\",\"Volume\":\"volume\"},inplace=True)\n",
        "  df = df[[\"open\",\"high\",\"low\",\"close\",\"Adj Close\",\"volume\"]]\n",
        "\n",
        "  df1 = pd.DataFrame()\n",
        "  # Daily returns\n",
        "  df1['Daily returns'] = df['Adj Close'].pct_change()\n",
        "  # Simple moving average\n",
        "  df1['SMA_5'] = TA.SMA(df, period = 5, column = 'Adj Close')\n",
        "  df1['SMA_20'] = TA.SMA(df, period = 20, column = 'Adj Close')\n",
        "  # Exponential moving average\n",
        "  df1['EMA_5'] = TA.EMA(df, period = 5, column = 'Adj Close')\n",
        "  df1['EMA_20'] = TA.EMA(df, period = 20, column = 'Adj Close')\n",
        "  df1['EMA_100'] = TA.EMA(df, period = 100, column = 'Adj Close')\n",
        "  df1['EMA_200'] = TA.EMA(df, period = 200, column = 'Adj Close')\n",
        "  # Moving Standard deviation\n",
        "  df1['MSD'] = TA.MSD(df, period = 20)\n",
        "  # Bollinger Bands\n",
        "  df1[['BB_UPPER', 'BB_MIDDLE', 'BB_LOWER']] = TA.BBANDS(df, period = 20, column = 'Adj Close')\n",
        "  # Kaufman's Adaptive Moving Average (KAMA)\n",
        "  df1['KAMA_20'] = TA.KAMA(df, period = 20)\n",
        "  # Moving Average Convergence Divergence (MACD)\n",
        "  df1[['MACD', 'SIGNAL']] = TA.MACD(df, period_fast = 12, period_slow = 26, signal = 9, adjust = True)\n",
        "  # Rate-of-Change (ROC)\n",
        "  df1['ROC'] = TA.ROC(df, period = 1)\n",
        "  # Relative Strenght Index (RSI)\n",
        "  df1['RSI'] = TA.RSI(df, period = 14)\n",
        "  # Average True Range (ATR)\n",
        "  df1['ATR'] = TA.ATR(df, period = 14)\n",
        "  # Stochastic Oscillator %K\n",
        "  df1['%K'] = TA.STOCH(df, period = 14)\n",
        "  # Stochastic Oscillator %D\n",
        "  df1['%D'] = TA.STOCHD(df, period = 3, stoch_period = 14)\n",
        "  # Williams %R\n",
        "  df1['%R'] = TA.WILLIAMS(df, period = 14)\n",
        "  # Awesome Oscillator (AO)\n",
        "  df1['AO'] = TA.AO(df, slow_period = 34, fast_period = 5)\n",
        "  # Chaikin Oscillator\n",
        "  df1['CO'] = TA.CHAIKIN(df)\n",
        "  # Volume Price Trend\n",
        "  df1['VPT'] = TA.VPT(df)\n",
        "  # Money Flow Index (MFI)\n",
        "  df1['MFI'] = TA.MFI(df, period = 14)\n",
        "\n",
        "  return pd.concat([df,df1],axis=1)"
      ],
      "execution_count": null,
      "outputs": []
    },
    {
      "cell_type": "code",
      "metadata": {
        "id": "oty1P31LjPRc"
      },
      "source": [
        "# New columns has been generated\n",
        "wmt_t = indicators(wmt)\n",
        "tsla_t = indicators(tsla)"
      ],
      "execution_count": null,
      "outputs": []
    },
    {
      "cell_type": "code",
      "metadata": {
        "id": "n7uEAdFUjUqf",
        "colab": {
          "base_uri": "https://localhost:8080/"
        },
        "outputId": "994e0369-202e-4f7e-8189-14c1996b27a5"
      },
      "source": [
        "# Viewing columns generated above\n",
        "print(wmt_t.columns)\n",
        "print(tsla_t.columns)"
      ],
      "execution_count": null,
      "outputs": [
        {
          "output_type": "stream",
          "text": [
            "Index(['open', 'high', 'low', 'close', 'Adj Close', 'volume', 'Daily returns',\n",
            "       'SMA_5', 'SMA_20', 'EMA_5', 'EMA_20', 'EMA_100', 'EMA_200', 'MSD',\n",
            "       'BB_UPPER', 'BB_MIDDLE', 'BB_LOWER', 'KAMA_20', 'MACD', 'SIGNAL', 'ROC',\n",
            "       'RSI', 'ATR', '%K', '%D', '%R', 'AO', 'CO', 'VPT', 'MFI'],\n",
            "      dtype='object')\n",
            "Index(['open', 'high', 'low', 'close', 'Adj Close', 'volume', 'Daily returns',\n",
            "       'SMA_5', 'SMA_20', 'EMA_5', 'EMA_20', 'EMA_100', 'EMA_200', 'MSD',\n",
            "       'BB_UPPER', 'BB_MIDDLE', 'BB_LOWER', 'KAMA_20', 'MACD', 'SIGNAL', 'ROC',\n",
            "       'RSI', 'ATR', '%K', '%D', '%R', 'AO', 'CO', 'VPT', 'MFI'],\n",
            "      dtype='object')\n"
          ],
          "name": "stdout"
        }
      ]
    },
    {
      "cell_type": "code",
      "metadata": {
        "id": "7SgJG1XyjWte",
        "colab": {
          "base_uri": "https://localhost:8080/"
        },
        "outputId": "134750df-3cff-4642-97a9-7b4f39cf1fde"
      },
      "source": [
        "# Checking shape of the dataframe\n",
        "previous_wmt = wmt_t.shape\n",
        "previous_tsla = tsla_t.shape\n",
        "print(\"WMT: \",previous_wmt)\n",
        "print(\"TSLA: \", previous_tsla)"
      ],
      "execution_count": null,
      "outputs": [
        {
          "output_type": "stream",
          "text": [
            "WMT:  (12163, 30)\n",
            "TSLA:  (2616, 30)\n"
          ],
          "name": "stdout"
        }
      ]
    },
    {
      "cell_type": "code",
      "metadata": {
        "id": "aGoxKC-6jg5U"
      },
      "source": [
        "# Filtering data for the analysis of our project\n",
        "wmt_filter_date = wmt_t[\"2005-05-31\":]\n",
        "tsla_filter_date = tsla_t[\"2011-05-24\":]"
      ],
      "execution_count": null,
      "outputs": []
    },
    {
      "cell_type": "code",
      "metadata": {
        "id": "XF3sXLjzjtoe",
        "colab": {
          "base_uri": "https://localhost:8080/"
        },
        "outputId": "f827ef2e-4ed4-48a4-ac25-14820a7ddff4"
      },
      "source": [
        "# Checking NULL values\n",
        "print(\"NULL values in WMT: \",wmt_filter_date.isnull().sum().sum())\n",
        "print(\"NULL values in TSLA: \",tsla_filter_date.isnull().sum().sum())"
      ],
      "execution_count": null,
      "outputs": [
        {
          "output_type": "stream",
          "text": [
            "NULL values in WMT:  0\n",
            "NULL values in TSLA:  0\n"
          ],
          "name": "stdout"
        }
      ]
    },
    {
      "cell_type": "code",
      "metadata": {
        "id": "SaGBr7WfjxDm"
      },
      "source": [
        "# Rounding into four decimals\n",
        "wmt_final = wmt_filter_date.round(4)\n",
        "tsla_final = tsla_filter_date.round(4)"
      ],
      "execution_count": null,
      "outputs": []
    },
    {
      "cell_type": "code",
      "metadata": {
        "id": "IGgGxUgYkArj",
        "colab": {
          "base_uri": "https://localhost:8080/"
        },
        "outputId": "401124b8-c544-4606-a91d-aed10cfb1226"
      },
      "source": [
        "# Checking the values rounded to four decimals\n",
        "print(wmt_final.head(2))\n",
        "print(tsla_final.head(2))"
      ],
      "execution_count": null,
      "outputs": [
        {
          "output_type": "stream",
          "text": [
            "             open   high    low  ...            CO           VPT      MFI\n",
            "Date                             ...                                     \n",
            "2005-05-31  47.45  47.47  47.13  ... -8.116186e+06  1.371585e+09  29.5783\n",
            "2005-06-01  47.25  48.17  47.24  ... -6.729284e+06  1.387343e+09  35.7572\n",
            "\n",
            "[2 rows x 30 columns]\n",
            "             open   high    low  ...            CO           VPT      MFI\n",
            "Date                             ...                                     \n",
            "2011-05-24  5.404  5.500  5.320  ... -5.836818e+06 -7.353143e+07  61.0574\n",
            "2011-05-25  5.380  5.802  5.234  ... -1.351335e+06 -3.915943e+07  68.8111\n",
            "\n",
            "[2 rows x 30 columns]\n"
          ],
          "name": "stdout"
        }
      ]
    },
    {
      "cell_type": "markdown",
      "metadata": {
        "id": "MXMbi3frkuyp"
      },
      "source": [
        "# Creating TARGET variable using ADJ CLOSE"
      ]
    },
    {
      "cell_type": "code",
      "metadata": {
        "id": "v5Ag01ZtkG64"
      },
      "source": [
        "# Creating Binary target variable\n",
        "def binary_target(df):\n",
        "  df[\"shift_close\"] = df[\"Adj Close\"].shift(1)\n",
        "  df[\"target\"] = np.where(df[\"Adj Close\"] >= df[\"shift_close\"],1,0)"
      ],
      "execution_count": null,
      "outputs": []
    },
    {
      "cell_type": "code",
      "metadata": {
        "id": "wbIFTjP4kLve"
      },
      "source": [
        "# Generating TARGET variables using ADJ CLOSE\n",
        "binary_target(wmt_final)\n",
        "binary_target(tsla_final)"
      ],
      "execution_count": null,
      "outputs": []
    },
    {
      "cell_type": "code",
      "metadata": {
        "id": "4LjBnZOIkRad"
      },
      "source": [
        "# Removing the first row to eliminate NULL shift close value\n",
        "wmt_final = wmt_final[1:]\n",
        "tsla_final = tsla_final[1:]"
      ],
      "execution_count": null,
      "outputs": []
    },
    {
      "cell_type": "code",
      "metadata": {
        "id": "ha75FN5Eka9t"
      },
      "source": [
        "# Dropping ADJ CLOSE\n",
        "wmt_final.drop(columns=[\"Adj Close\",\"shift_close\"], inplace=True)\n",
        "tsla_final.drop(columns=[\"Adj Close\",\"shift_close\"], inplace=True)"
      ],
      "execution_count": null,
      "outputs": []
    },
    {
      "cell_type": "code",
      "metadata": {
        "id": "f1YLHBYdkf80",
        "colab": {
          "base_uri": "https://localhost:8080/"
        },
        "outputId": "07a9ea57-edf1-4fec-c5c1-b325c93b5f6a"
      },
      "source": [
        "# Checking number of columns\n",
        "print(wmt_final.shape)\n",
        "print(tsla_final.shape)"
      ],
      "execution_count": null,
      "outputs": [
        {
          "output_type": "stream",
          "text": [
            "(3893, 30)\n",
            "(2386, 30)\n"
          ],
          "name": "stdout"
        }
      ]
    },
    {
      "cell_type": "code",
      "metadata": {
        "id": "eOCHCFKdkjmX"
      },
      "source": [
        "# Saving the file into CSV format\n",
        "wmt_final.to_csv(\"Walmart_Stock_Data.csv\")\n",
        "tsla_final.to_csv(\"Tesla_Stock_Data.csv\")"
      ],
      "execution_count": null,
      "outputs": []
    },
    {
      "cell_type": "code",
      "metadata": {
        "id": "HkTWl4qWdMUI"
      },
      "source": [
        ""
      ],
      "execution_count": null,
      "outputs": []
    }
  ]
}