{
  "nbformat": 4,
  "nbformat_minor": 0,
  "metadata": {
    "colab": {
      "name": "Extracting_News_Headlines.ipynb",
      "provenance": [],
      "collapsed_sections": [],
      "authorship_tag": "ABX9TyOsYfGCJetdp7YxZWWX9JhW",
      "include_colab_link": true
    },
    "kernelspec": {
      "name": "python3",
      "display_name": "Python 3"
    }
  },
  "cells": [
    {
      "cell_type": "markdown",
      "metadata": {
        "id": "view-in-github",
        "colab_type": "text"
      },
      "source": [
        "<a href=\"https://colab.research.google.com/github/agarwalsahil2013/Stock-Price-Prediction/blob/main/Extracting_News_Headlines.ipynb\" target=\"_parent\"><img src=\"https://colab.research.google.com/assets/colab-badge.svg\" alt=\"Open In Colab\"/></a>"
      ]
    },
    {
      "cell_type": "markdown",
      "metadata": {
        "id": "L82BdhPllV6j"
      },
      "source": [
        "# EXTRACTING HEADLINES FOR WMT AND TSLA"
      ]
    },
    {
      "cell_type": "markdown",
      "metadata": {
        "id": "CnH2E46MlbQn"
      },
      "source": [
        "# Function to extract WALMART headlines"
      ]
    },
    {
      "cell_type": "code",
      "metadata": {
        "id": "EHa7CaJFfnbj"
      },
      "source": [
        "#Importing libraries\n",
        "from bs4 import BeautifulSoup\n",
        "import requests\n",
        "import pandas as pd\n",
        "\n",
        "# Function to scrap new headlines from given URL\n",
        "def get_links_wmt(root_url):\n",
        "    set_of_links = []\n",
        "    pages = []\n",
        "\n",
        "    # how many pages should we scroll through ? currently set to 196\n",
        "    for i in range(1, 196):\n",
        "        r = requests.get(root_url.format(i))\n",
        "        soup = BeautifulSoup(r.content, 'html5lib')\n",
        "\n",
        "        for li in soup.find_all('a', class_=\"news-link\"):\n",
        "              set_of_links.append(li.get_text())\n",
        "              \n",
        "    return set_of_links"
      ],
      "execution_count": 1,
      "outputs": []
    },
    {
      "cell_type": "code",
      "metadata": {
        "id": "m1iuADC4scxG"
      },
      "source": [
        "# Extracting news headlines and saving into pandas Dataframe and generating CSV file using given URL\n",
        "hw = pd.DataFrame(get_links_wmt(\"https://markets.businessinsider.com/news/wmt?p={}\"),columns = [\"headlines\"])\n",
        "hw.to_csv(\"headline_wmt.csv\")"
      ],
      "execution_count": 2,
      "outputs": []
    },
    {
      "cell_type": "code",
      "metadata": {
        "colab": {
          "base_uri": "https://localhost:8080/",
          "height": 197
        },
        "id": "lmcOPA741phQ",
        "outputId": "97616740-766c-4714-a2e5-537efc5aa343"
      },
      "source": [
        "hw.head()"
      ],
      "execution_count": 3,
      "outputs": [
        {
          "output_type": "execute_result",
          "data": {
            "text/html": [
              "<div>\n",
              "<style scoped>\n",
              "    .dataframe tbody tr th:only-of-type {\n",
              "        vertical-align: middle;\n",
              "    }\n",
              "\n",
              "    .dataframe tbody tr th {\n",
              "        vertical-align: top;\n",
              "    }\n",
              "\n",
              "    .dataframe thead th {\n",
              "        text-align: right;\n",
              "    }\n",
              "</style>\n",
              "<table border=\"1\" class=\"dataframe\">\n",
              "  <thead>\n",
              "    <tr style=\"text-align: right;\">\n",
              "      <th></th>\n",
              "      <th>headlines</th>\n",
              "    </tr>\n",
              "  </thead>\n",
              "  <tbody>\n",
              "    <tr>\n",
              "      <th>0</th>\n",
              "      <td>SHAREHOLDER ALERT: Pomerantz Law Firm Investig...</td>\n",
              "    </tr>\n",
              "    <tr>\n",
              "      <th>1</th>\n",
              "      <td>Rosen, Leading Trial Attorneys, Encourages Wal...</td>\n",
              "    </tr>\n",
              "    <tr>\n",
              "      <th>2</th>\n",
              "      <td>Walmart To Launch Display Self-serve Platform</td>\n",
              "    </tr>\n",
              "    <tr>\n",
              "      <th>3</th>\n",
              "      <td>7 Earnings Reports To Watch Next Week</td>\n",
              "    </tr>\n",
              "    <tr>\n",
              "      <th>4</th>\n",
              "      <td>Walmart Acquires Next-Generation Advertising T...</td>\n",
              "    </tr>\n",
              "  </tbody>\n",
              "</table>\n",
              "</div>"
            ],
            "text/plain": [
              "                                           headlines\n",
              "0  SHAREHOLDER ALERT: Pomerantz Law Firm Investig...\n",
              "1  Rosen, Leading Trial Attorneys, Encourages Wal...\n",
              "2     Walmart To Launch Display Self-serve Platform \n",
              "3              7 Earnings Reports To Watch Next Week\n",
              "4  Walmart Acquires Next-Generation Advertising T..."
            ]
          },
          "metadata": {
            "tags": []
          },
          "execution_count": 3
        }
      ]
    },
    {
      "cell_type": "markdown",
      "metadata": {
        "id": "IT9dwMXvlj1P"
      },
      "source": [
        "# Function to extract TESLA headlines"
      ]
    },
    {
      "cell_type": "code",
      "metadata": {
        "id": "Dp1IIQsdVK5W"
      },
      "source": [
        "# Function to scrap new headlines from given URL\n",
        "def get_links_tsla(root_url):\n",
        "    set_of_links = []\n",
        "    pages = []\n",
        "\n",
        "    # how many pages should we scroll through ? currently set to 457\n",
        "    for i in range(1, 457):\n",
        "        r = requests.get(root_url.format(i))\n",
        "        soup = BeautifulSoup(r.content, 'html5lib')\n",
        "\n",
        "        for li in soup.find_all('a', class_=\"news-link\"):\n",
        "              set_of_links.append(li.get_text())\n",
        "              \n",
        "    return set_of_links"
      ],
      "execution_count": 4,
      "outputs": []
    },
    {
      "cell_type": "code",
      "metadata": {
        "id": "gCoMwiH6UtNA"
      },
      "source": [
        "# Extracting news headlines and saving into pandas Dataframe and generating CSV file using given URL\n",
        "ht = pd.DataFrame(get_links_tsla(\"https://markets.businessinsider.com/news/tsla?p={}\"),columns = [\"headlines\"])\n",
        "ht.to_csv(\"headline_tsla.csv\")"
      ],
      "execution_count": 5,
      "outputs": []
    },
    {
      "cell_type": "code",
      "metadata": {
        "colab": {
          "base_uri": "https://localhost:8080/",
          "height": 197
        },
        "id": "3mCN2PtU13DC",
        "outputId": "6cde9d8e-0004-41d6-b152-2d285fdaeeee"
      },
      "source": [
        "ht.head()"
      ],
      "execution_count": 6,
      "outputs": [
        {
          "output_type": "execute_result",
          "data": {
            "text/html": [
              "<div>\n",
              "<style scoped>\n",
              "    .dataframe tbody tr th:only-of-type {\n",
              "        vertical-align: middle;\n",
              "    }\n",
              "\n",
              "    .dataframe tbody tr th {\n",
              "        vertical-align: top;\n",
              "    }\n",
              "\n",
              "    .dataframe thead th {\n",
              "        text-align: right;\n",
              "    }\n",
              "</style>\n",
              "<table border=\"1\" class=\"dataframe\">\n",
              "  <thead>\n",
              "    <tr style=\"text-align: right;\">\n",
              "      <th></th>\n",
              "      <th>headlines</th>\n",
              "    </tr>\n",
              "  </thead>\n",
              "  <tbody>\n",
              "    <tr>\n",
              "      <th>0</th>\n",
              "      <td>Tesla bought $1.5 billion in bitcoin - here ar...</td>\n",
              "    </tr>\n",
              "    <tr>\n",
              "      <th>1</th>\n",
              "      <td>Here's what 6 crypto experts said about Tesla'...</td>\n",
              "    </tr>\n",
              "    <tr>\n",
              "      <th>2</th>\n",
              "      <td>Bitcoin Price Predictions: Where Will BTC Go A...</td>\n",
              "    </tr>\n",
              "    <tr>\n",
              "      <th>3</th>\n",
              "      <td>Blockchain Stocks: Why RIOT and MARA Stock Are...</td>\n",
              "    </tr>\n",
              "    <tr>\n",
              "      <th>4</th>\n",
              "      <td>UBS says bitcoin is a bubble and too volatile ...</td>\n",
              "    </tr>\n",
              "  </tbody>\n",
              "</table>\n",
              "</div>"
            ],
            "text/plain": [
              "                                           headlines\n",
              "0  Tesla bought $1.5 billion in bitcoin - here ar...\n",
              "1  Here's what 6 crypto experts said about Tesla'...\n",
              "2  Bitcoin Price Predictions: Where Will BTC Go A...\n",
              "3  Blockchain Stocks: Why RIOT and MARA Stock Are...\n",
              "4  UBS says bitcoin is a bubble and too volatile ..."
            ]
          },
          "metadata": {
            "tags": []
          },
          "execution_count": 6
        }
      ]
    },
    {
      "cell_type": "markdown",
      "metadata": {
        "id": "tPCvgVFrlpz3"
      },
      "source": [
        "# Extracting DATES for the above headlines"
      ]
    },
    {
      "cell_type": "markdown",
      "metadata": {
        "id": "l8dt1kZ_lwQQ"
      },
      "source": [
        "# DATES for WMT"
      ]
    },
    {
      "cell_type": "code",
      "metadata": {
        "id": "_-Du2Wabt0Q5"
      },
      "source": [
        "# Function to scrap new dates from given URL\n",
        "def get_links_wmt_pages(root_url):\n",
        "    pages = []\n",
        "\n",
        "    # how many pages should we scroll through ? currently set to 196\n",
        "    for i in range(1, 196):\n",
        "        r = requests.get(root_url.format(i))\n",
        "        soup = BeautifulSoup(r.content, 'html5lib')\n",
        "\n",
        "        for pg in soup.find_all('span', class_=\"warmGrey source-and-publishdate\"):\n",
        "              pages.append(pg.get_text())\n",
        "\n",
        "    return pages"
      ],
      "execution_count": 7,
      "outputs": []
    },
    {
      "cell_type": "code",
      "metadata": {
        "id": "HfbksSRrwXW4"
      },
      "source": [
        "# Extracting news dates and saving into pandas Dataframe and generating CSV file using given URL\n",
        "pw = pd.DataFrame(get_links_wmt_pages(\"https://markets.businessinsider.com/news/wmt?p={}\"),columns = [\"pages\"])\n",
        "pw.to_csv(\"pages_wmt.csv\")"
      ],
      "execution_count": 8,
      "outputs": []
    },
    {
      "cell_type": "code",
      "metadata": {
        "colab": {
          "base_uri": "https://localhost:8080/",
          "height": 197
        },
        "id": "eAEF6Jt422kB",
        "outputId": "1984ecf8-5227-4aae-d977-cd860f8b763f"
      },
      "source": [
        "pw.head()"
      ],
      "execution_count": 9,
      "outputs": [
        {
          "output_type": "execute_result",
          "data": {
            "text/html": [
              "<div>\n",
              "<style scoped>\n",
              "    .dataframe tbody tr th:only-of-type {\n",
              "        vertical-align: middle;\n",
              "    }\n",
              "\n",
              "    .dataframe tbody tr th {\n",
              "        vertical-align: top;\n",
              "    }\n",
              "\n",
              "    .dataframe thead th {\n",
              "        text-align: right;\n",
              "    }\n",
              "</style>\n",
              "<table border=\"1\" class=\"dataframe\">\n",
              "  <thead>\n",
              "    <tr style=\"text-align: right;\">\n",
              "      <th></th>\n",
              "      <th>pages</th>\n",
              "    </tr>\n",
              "  </thead>\n",
              "  <tbody>\n",
              "    <tr>\n",
              "      <th>0</th>\n",
              "      <td>Newsfile  2d</td>\n",
              "    </tr>\n",
              "    <tr>\n",
              "      <th>1</th>\n",
              "      <td>Newsfile  3d</td>\n",
              "    </tr>\n",
              "    <tr>\n",
              "      <th>2</th>\n",
              "      <td>RTTNews  3d</td>\n",
              "    </tr>\n",
              "    <tr>\n",
              "      <th>3</th>\n",
              "      <td>InvestorPlace  3d</td>\n",
              "    </tr>\n",
              "    <tr>\n",
              "      <th>4</th>\n",
              "      <td>MotleyFool  4d</td>\n",
              "    </tr>\n",
              "  </tbody>\n",
              "</table>\n",
              "</div>"
            ],
            "text/plain": [
              "               pages\n",
              "0       Newsfile  2d\n",
              "1       Newsfile  3d\n",
              "2        RTTNews  3d\n",
              "3  InvestorPlace  3d\n",
              "4     MotleyFool  4d"
            ]
          },
          "metadata": {
            "tags": []
          },
          "execution_count": 9
        }
      ]
    },
    {
      "cell_type": "markdown",
      "metadata": {
        "id": "2ztAQ5sBl1BQ"
      },
      "source": [
        "# Dates for TSLA"
      ]
    },
    {
      "cell_type": "code",
      "metadata": {
        "id": "g62j6qruwdjq"
      },
      "source": [
        "# Function to scrap new dates from given URL\n",
        "def get_links_tsla_pages(root_url):\n",
        "    pages = []\n",
        "\n",
        "    # how many pages should we scroll through ? currently set to 457\n",
        "    for i in range(1, 457):\n",
        "        r = requests.get(root_url.format(i))\n",
        "        soup = BeautifulSoup(r.content, 'html5lib')\n",
        "\n",
        "        for pg in soup.find_all('span', class_=\"warmGrey source-and-publishdate\"):\n",
        "              pages.append(pg.get_text())\n",
        "\n",
        "    return pages"
      ],
      "execution_count": 10,
      "outputs": []
    },
    {
      "cell_type": "code",
      "metadata": {
        "id": "9cOARAMOVgDG"
      },
      "source": [
        "# Extracting news dates and saving into pandas Dataframe and generating CSV file using given URL\n",
        "pt = pd.DataFrame(get_links_tsla_pages(\"https://markets.businessinsider.com/news/tsla?p={}\"),columns = [\"pages\"])\n",
        "pt.to_csv(\"pages_tsla.csv\")"
      ],
      "execution_count": 11,
      "outputs": []
    },
    {
      "cell_type": "code",
      "metadata": {
        "colab": {
          "base_uri": "https://localhost:8080/",
          "height": 197
        },
        "id": "X_2GI42n26Gw",
        "outputId": "f6b18e1d-b0e5-4152-d744-097bc988a6e3"
      },
      "source": [
        "pt.head()"
      ],
      "execution_count": 14,
      "outputs": [
        {
          "output_type": "execute_result",
          "data": {
            "text/html": [
              "<div>\n",
              "<style scoped>\n",
              "    .dataframe tbody tr th:only-of-type {\n",
              "        vertical-align: middle;\n",
              "    }\n",
              "\n",
              "    .dataframe tbody tr th {\n",
              "        vertical-align: top;\n",
              "    }\n",
              "\n",
              "    .dataframe thead th {\n",
              "        text-align: right;\n",
              "    }\n",
              "</style>\n",
              "<table border=\"1\" class=\"dataframe\">\n",
              "  <thead>\n",
              "    <tr style=\"text-align: right;\">\n",
              "      <th></th>\n",
              "      <th>pages</th>\n",
              "    </tr>\n",
              "  </thead>\n",
              "  <tbody>\n",
              "    <tr>\n",
              "      <th>0</th>\n",
              "      <td>Business Insider  12m</td>\n",
              "    </tr>\n",
              "    <tr>\n",
              "      <th>1</th>\n",
              "      <td>Business Insider  2h</td>\n",
              "    </tr>\n",
              "    <tr>\n",
              "      <th>2</th>\n",
              "      <td>InvestorPlace  2h</td>\n",
              "    </tr>\n",
              "    <tr>\n",
              "      <th>3</th>\n",
              "      <td>InvestorPlace  2h</td>\n",
              "    </tr>\n",
              "    <tr>\n",
              "      <th>4</th>\n",
              "      <td>Premium  3h</td>\n",
              "    </tr>\n",
              "  </tbody>\n",
              "</table>\n",
              "</div>"
            ],
            "text/plain": [
              "                   pages\n",
              "0  Business Insider  12m\n",
              "1   Business Insider  2h\n",
              "2      InvestorPlace  2h\n",
              "3      InvestorPlace  2h\n",
              "4            Premium  3h"
            ]
          },
          "metadata": {
            "tags": []
          },
          "execution_count": 14
        }
      ]
    },
    {
      "cell_type": "code",
      "metadata": {
        "id": "ocfQBpcp3SbY"
      },
      "source": [
        ""
      ],
      "execution_count": null,
      "outputs": []
    }
  ]
}