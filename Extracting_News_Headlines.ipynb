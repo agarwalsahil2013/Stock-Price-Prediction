{
  "nbformat": 4,
  "nbformat_minor": 0,
  "metadata": {
    "colab": {
      "name": "Extracting_News_Headlines.ipynb",
      "provenance": [],
      "collapsed_sections": [],
      "authorship_tag": "ABX9TyNNIfiByQDgyvvYZKPGD41s",
      "include_colab_link": true
    },
    "kernelspec": {
      "name": "python3",
      "display_name": "Python 3"
    }
  },
  "cells": [
    {
      "cell_type": "markdown",
      "metadata": {
        "id": "view-in-github",
        "colab_type": "text"
      },
      "source": [
        "<a href=\"https://colab.research.google.com/github/agarwalsahil2013/Stock-Price-Prediction/blob/main/Extracting_News_Headlines.ipynb\" target=\"_parent\"><img src=\"https://colab.research.google.com/assets/colab-badge.svg\" alt=\"Open In Colab\"/></a>"
      ]
    },
    {
      "cell_type": "markdown",
      "metadata": {
        "id": "L82BdhPllV6j"
      },
      "source": [
        "# EXTRACTING HEADLINES FOR WMT AND TSLA"
      ]
    },
    {
      "cell_type": "markdown",
      "metadata": {
        "id": "CnH2E46MlbQn"
      },
      "source": [
        "# Function to extract WALMART headlines"
      ]
    },
    {
      "cell_type": "code",
      "metadata": {
        "id": "EHa7CaJFfnbj"
      },
      "source": [
        "#Importing libraries\n",
        "from bs4 import BeautifulSoup\n",
        "import requests\n",
        "import pandas as pd\n",
        "\n",
        "# Function to scrap new headlines from given URL\n",
        "def get_links_wmt(root_url):\n",
        "    set_of_links = []\n",
        "    pages = []\n",
        "\n",
        "    # how many pages should we scroll through ? currently set to 196\n",
        "    for i in range(1, 196):\n",
        "        r = requests.get(root_url.format(i))\n",
        "        soup = BeautifulSoup(r.content, 'html5lib')\n",
        "\n",
        "        for li in soup.find_all('a', class_=\"news-link\"):\n",
        "              set_of_links.append(li.get_text())\n",
        "              \n",
        "    return set_of_links"
      ],
      "execution_count": 1,
      "outputs": []
    },
    {
      "cell_type": "code",
      "metadata": {
        "id": "m1iuADC4scxG"
      },
      "source": [
        "# Extracting news headlines and saving into pandas Dataframe and generating CSV file using given URL\n",
        "hw = pd.DataFrame(get_links_wmt(\"https://markets.businessinsider.com/news/wmt?p={}\"),columns = [\"headlines\"])\n",
        "hw.to_csv(\"headline_wmt.csv\")"
      ],
      "execution_count": null,
      "outputs": []
    },
    {
      "cell_type": "code",
      "metadata": {
        "id": "lmcOPA741phQ"
      },
      "source": [
        "hw.head()"
      ],
      "execution_count": null,
      "outputs": []
    },
    {
      "cell_type": "markdown",
      "metadata": {
        "id": "IT9dwMXvlj1P"
      },
      "source": [
        "# Function to extract TESLA headlines"
      ]
    },
    {
      "cell_type": "code",
      "metadata": {
        "id": "Dp1IIQsdVK5W"
      },
      "source": [
        "# Function to scrap new headlines from given URL\n",
        "def get_links_tsla(root_url):\n",
        "    set_of_links = []\n",
        "    pages = []\n",
        "\n",
        "    # how many pages should we scroll through ? currently set to 457\n",
        "    for i in range(1, 457):\n",
        "        r = requests.get(root_url.format(i))\n",
        "        soup = BeautifulSoup(r.content, 'html5lib')\n",
        "\n",
        "        for li in soup.find_all('a', class_=\"news-link\"):\n",
        "              set_of_links.append(li.get_text())\n",
        "              \n",
        "    return set_of_links"
      ],
      "execution_count": null,
      "outputs": []
    },
    {
      "cell_type": "code",
      "metadata": {
        "id": "gCoMwiH6UtNA"
      },
      "source": [
        "# Extracting news headlines and saving into pandas Dataframe and generating CSV file using given URL\n",
        "ht = pd.DataFrame(get_links_tsla(\"https://markets.businessinsider.com/news/tsla?p={}\"),columns = [\"headlines\"])\n",
        "ht.to_csv(\"headline_tsla.csv\")"
      ],
      "execution_count": null,
      "outputs": []
    },
    {
      "cell_type": "code",
      "metadata": {
        "id": "3mCN2PtU13DC"
      },
      "source": [
        "ht.head()"
      ],
      "execution_count": null,
      "outputs": []
    },
    {
      "cell_type": "markdown",
      "metadata": {
        "id": "tPCvgVFrlpz3"
      },
      "source": [
        "# Extracting DATES for the above headlines"
      ]
    },
    {
      "cell_type": "markdown",
      "metadata": {
        "id": "l8dt1kZ_lwQQ"
      },
      "source": [
        "# DATES for WMT"
      ]
    },
    {
      "cell_type": "code",
      "metadata": {
        "id": "_-Du2Wabt0Q5"
      },
      "source": [
        "# Function to scrap new dates from given URL\n",
        "def get_links_wmt_pages(root_url):\n",
        "    pages = []\n",
        "\n",
        "    # how many pages should we scroll through ? currently set to 196\n",
        "    for i in range(1, 196):\n",
        "        r = requests.get(root_url.format(i))\n",
        "        soup = BeautifulSoup(r.content, 'html5lib')\n",
        "\n",
        "        for pg in soup.find_all('span', class_=\"warmGrey source-and-publishdate\"):\n",
        "              pages.append(pg.get_text())\n",
        "\n",
        "    return pages"
      ],
      "execution_count": null,
      "outputs": []
    },
    {
      "cell_type": "code",
      "metadata": {
        "id": "HfbksSRrwXW4"
      },
      "source": [
        "# Extracting news dates and saving into pandas Dataframe and generating CSV file using given URL\n",
        "pw = pd.DataFrame(get_links_wmt_pages(\"https://markets.businessinsider.com/news/wmt?p={}\"),columns = [\"pages\"])\n",
        "pw.to_csv(\"pages_wmt.csv\")"
      ],
      "execution_count": null,
      "outputs": []
    },
    {
      "cell_type": "markdown",
      "metadata": {
        "id": "2ztAQ5sBl1BQ"
      },
      "source": [
        "# Dates for TSLA"
      ]
    },
    {
      "cell_type": "code",
      "metadata": {
        "id": "g62j6qruwdjq"
      },
      "source": [
        "# Function to scrap new dates from given URL\n",
        "def get_links_tsla_pages(root_url):\n",
        "    pages = []\n",
        "\n",
        "    # how many pages should we scroll through ? currently set to 457\n",
        "    for i in range(1, 457):\n",
        "        r = requests.get(root_url.format(i))\n",
        "        soup = BeautifulSoup(r.content, 'html5lib')\n",
        "\n",
        "        for pg in soup.find_all('span', class_=\"warmGrey source-and-publishdate\"):\n",
        "              pages.append(pg.get_text())\n",
        "\n",
        "    return pages"
      ],
      "execution_count": null,
      "outputs": []
    },
    {
      "cell_type": "code",
      "metadata": {
        "id": "9cOARAMOVgDG"
      },
      "source": [
        "# Extracting news dates and saving into pandas Dataframe and generating CSV file using given URL\n",
        "pt = pd.DataFrame(get_links_tsla_pages(\"https://markets.businessinsider.com/news/tsla?p={}\"),columns = [\"pages\"])\n",
        "pt.to_csv(\"pages_tsla.csv\")"
      ],
      "execution_count": null,
      "outputs": []
    },
    {
      "cell_type": "code",
      "metadata": {
        "id": "1a5LcLb81lBj"
      },
      "source": [
        "final dataset"
      ],
      "execution_count": null,
      "outputs": []
    }
  ]
}